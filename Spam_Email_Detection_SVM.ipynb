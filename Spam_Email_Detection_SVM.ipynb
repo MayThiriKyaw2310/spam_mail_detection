{
  "nbformat": 4,
  "nbformat_minor": 0,
  "metadata": {
    "colab": {
      "provenance": [],
      "authorship_tag": "ABX9TyM+jtYYs0wEsbuFJKhyaNNf",
      "include_colab_link": true
    },
    "kernelspec": {
      "name": "python3",
      "display_name": "Python 3"
    },
    "language_info": {
      "name": "python"
    }
  },
  "cells": [
    {
      "cell_type": "markdown",
      "metadata": {
        "id": "view-in-github",
        "colab_type": "text"
      },
      "source": [
        "<a href=\"https://colab.research.google.com/github/MayThiriKyaw2310/spam_mail_detection/blob/main/Spam_Email_Detection_SVM.ipynb\" target=\"_parent\"><img src=\"https://colab.research.google.com/assets/colab-badge.svg\" alt=\"Open In Colab\"/></a>"
      ]
    },
    {
      "cell_type": "code",
      "execution_count": null,
      "metadata": {
        "colab": {
          "base_uri": "https://localhost:8080/"
        },
        "id": "66jZeR3wkxKh",
        "outputId": "bc4df406-bb6b-4c1a-b13b-a50a556101fc"
      },
      "outputs": [
        {
          "output_type": "stream",
          "name": "stderr",
          "text": [
            "[nltk_data] Downloading package stopwords to /root/nltk_data...\n",
            "[nltk_data]   Package stopwords is already up-to-date!\n"
          ]
        },
        {
          "output_type": "execute_result",
          "data": {
            "text/plain": [
              "True"
            ]
          },
          "metadata": {},
          "execution_count": 45
        }
      ],
      "source": [
        "import numpy as np\n",
        "import pandas as pd\n",
        "\n",
        "from sklearn.model_selection import train_test_split\n",
        "from sklearn.feature_extraction.text import TfidfVectorizer\n",
        "from sklearn.svm import SVC\n",
        "from sklearn.metrics import classification_report, confusion_matrix,precision_recall_curve,f1_score\n",
        "from sklearn.model_selection import cross_val_score\n",
        "from sklearn.model_selection import GridSearchCV\n",
        "\n",
        "import string\n",
        "import nltk\n",
        "from nltk.stem import PorterStemmer\n",
        "import joblib\n",
        "\n",
        "nltk.download('stopwords')"
      ]
    },
    {
      "cell_type": "code",
      "source": [
        "df = pd.read_csv('/content/contact_data_general_questions.csv')\n",
        "df.head()\n",
        "print(df.isnull().values.any())\n",
        "print(df.isnull().sum())"
      ],
      "metadata": {
        "colab": {
          "base_uri": "https://localhost:8080/"
        },
        "id": "w1zQxPm4k8oL",
        "outputId": "d1a4d0a5-ed17-415d-cb3f-1d5a1f1b6212"
      },
      "execution_count": null,
      "outputs": [
        {
          "output_type": "stream",
          "name": "stdout",
          "text": [
            "True\n",
            "ID          0\n",
            "Name        0\n",
            "Email       0\n",
            "Details     0\n",
            "Message     0\n",
            "Address    49\n",
            "label       0\n",
            "dtype: int64\n"
          ]
        }
      ]
    },
    {
      "cell_type": "code",
      "source": [
        "#Handling missing values\n",
        "df['Address'].fillna('Unknown Address', inplace=True)\n",
        "print(df)\n",
        "\n",
        "df['Message'] = df['Message'].apply(lambda x: x.replace('\\r\\n', ''))\n",
        "df.info()\n",
        "df['label'].value_counts()"
      ],
      "metadata": {
        "colab": {
          "base_uri": "https://localhost:8080/",
          "height": 1000
        },
        "id": "npolsj0MlXkL",
        "outputId": "c762cb5f-e0eb-4b87-a6aa-01cfda0a9ee9"
      },
      "execution_count": null,
      "outputs": [
        {
          "output_type": "stream",
          "name": "stdout",
          "text": [
            "    ID              Name                                              Email  \\\n",
            "0    1          jane doe                                  janedoe@gmail.com   \n",
            "1    2  Richard Davidson                           leadingai@dollartip.info   \n",
            "2    3      Jason Groves  aiinteractivebookscommercial@growthmarketingno...   \n",
            "3    4   William Coleman                  aitools@getmoreopportunities.info   \n",
            "4    5       Sarah Blake                     sarah.blake@techinnovators.com   \n",
            "..  ..               ...                                                ...   \n",
            "71  72        Htet Paing                            htetpaing.hpo@gmail.com   \n",
            "72  73           Micheal                              waiyansm.sm@gmail.com   \n",
            "73  74            thumin                                   thumin@gmail.com   \n",
            "74  75            thumin                                   thumin@gmail.com   \n",
            "75  76            thumin                                   thumin@gmail.com   \n",
            "\n",
            "                          Details  \\\n",
            "0                Contact for null   \n",
            "1           Contact for undefined   \n",
            "2           Contact for undefined   \n",
            "3           Contact for undefined   \n",
            "4   Contact for product inquiries   \n",
            "..                            ...   \n",
            "71  Contact for [object Object],    \n",
            "72  Contact for [object Object],    \n",
            "73  Contact for [object Object],    \n",
            "74  Contact for [object Object],    \n",
            "75  Contact for [object Object],    \n",
            "\n",
            "                                              Message          Address  label  \n",
            "0                                             mike tl  Unknown Address      0  \n",
            "1   Hi kalasa.gallery, Are you ready to take your ...  Unknown Address      1  \n",
            "2   Hey, Guess What ? Now You Launch Your Own 6-Fi...  Unknown Address      1  \n",
            "3   Hi, Imagine having access to the world's leadi...  Unknown Address      1  \n",
            "4    We are excited to announce the launch of our ...  Unknown Address      1  \n",
            "..                                                ...              ...    ...  \n",
            "71  Are your events open to the public, or are the...  Unknown Address      0  \n",
            "72  Do you host events that focus on specific arti...  Unknown Address      0  \n",
            "73           How do I register for an upcoming event?  Unknown Address      0  \n",
            "74                                    Just testing pr  Unknown Address      0  \n",
            "75  Hi, pls let me know about the {artwork}. I'm i...     Not Provided      0  \n",
            "\n",
            "[76 rows x 7 columns]\n",
            "<class 'pandas.core.frame.DataFrame'>\n",
            "RangeIndex: 76 entries, 0 to 75\n",
            "Data columns (total 7 columns):\n",
            " #   Column   Non-Null Count  Dtype \n",
            "---  ------   --------------  ----- \n",
            " 0   ID       76 non-null     int64 \n",
            " 1   Name     76 non-null     object\n",
            " 2   Email    76 non-null     object\n",
            " 3   Details  76 non-null     object\n",
            " 4   Message  76 non-null     object\n",
            " 5   Address  76 non-null     object\n",
            " 6   label    76 non-null     int64 \n",
            "dtypes: int64(2), object(5)\n",
            "memory usage: 4.3+ KB\n"
          ]
        },
        {
          "output_type": "stream",
          "name": "stderr",
          "text": [
            "<ipython-input-47-846838a6f458>:2: FutureWarning: A value is trying to be set on a copy of a DataFrame or Series through chained assignment using an inplace method.\n",
            "The behavior will change in pandas 3.0. This inplace method will never work because the intermediate object on which we are setting values always behaves as a copy.\n",
            "\n",
            "For example, when doing 'df[col].method(value, inplace=True)', try using 'df.method({col: value}, inplace=True)' or df[col] = df[col].method(value) instead, to perform the operation inplace on the original object.\n",
            "\n",
            "\n",
            "  df['Address'].fillna('Unknown Address', inplace=True)\n"
          ]
        },
        {
          "output_type": "execute_result",
          "data": {
            "text/plain": [
              "label\n",
              "0    39\n",
              "1    37\n",
              "Name: count, dtype: int64"
            ],
            "text/html": [
              "<div>\n",
              "<style scoped>\n",
              "    .dataframe tbody tr th:only-of-type {\n",
              "        vertical-align: middle;\n",
              "    }\n",
              "\n",
              "    .dataframe tbody tr th {\n",
              "        vertical-align: top;\n",
              "    }\n",
              "\n",
              "    .dataframe thead th {\n",
              "        text-align: right;\n",
              "    }\n",
              "</style>\n",
              "<table border=\"1\" class=\"dataframe\">\n",
              "  <thead>\n",
              "    <tr style=\"text-align: right;\">\n",
              "      <th></th>\n",
              "      <th>count</th>\n",
              "    </tr>\n",
              "    <tr>\n",
              "      <th>label</th>\n",
              "      <th></th>\n",
              "    </tr>\n",
              "  </thead>\n",
              "  <tbody>\n",
              "    <tr>\n",
              "      <th>0</th>\n",
              "      <td>39</td>\n",
              "    </tr>\n",
              "    <tr>\n",
              "      <th>1</th>\n",
              "      <td>37</td>\n",
              "    </tr>\n",
              "  </tbody>\n",
              "</table>\n",
              "</div><br><label><b>dtype:</b> int64</label>"
            ]
          },
          "metadata": {},
          "execution_count": 47
        }
      ]
    },
    {
      "cell_type": "code",
      "source": [
        "#Defining a custom stopwords set\n",
        "stopwords_set = {\n",
        "    \"i\", \"me\", \"my\", \"myself\", \"we\", \"our\", \"ours\", \"ourselves\", \"you\", \"your\",\n",
        "    \"yours\", \"yourself\", \"yourselves\", \"he\", \"him\", \"his\", \"himself\", \"she\",\n",
        "    \"her\", \"hers\", \"herself\", \"it\", \"its\", \"itself\", \"they\", \"them\", \"their\",\n",
        "    \"theirs\", \"themselves\", \"what\", \"which\", \"who\", \"whom\", \"this\", \"that\",\n",
        "    \"these\", \"those\", \"am\", \"is\", \"are\", \"was\", \"were\", \"be\", \"been\", \"being\",\n",
        "    \"have\", \"has\", \"had\", \"having\", \"do\", \"does\", \"did\", \"doing\", \"a\", \"an\",\n",
        "    \"the\", \"and\", \"but\", \"if\", \"or\", \"because\", \"as\", \"until\", \"while\", \"of\",\n",
        "    \"at\", \"by\", \"for\", \"with\", \"about\", \"against\", \"between\", \"into\", \"through\",\n",
        "    \"during\", \"before\", \"after\", \"above\", \"below\", \"to\", \"from\", \"up\", \"down\",\n",
        "    \"in\", \"out\", \"on\", \"off\", \"over\", \"under\", \"again\", \"further\", \"then\",\n",
        "    \"once\", \"here\", \"there\", \"when\", \"where\", \"why\", \"how\", \"all\", \"any\",\n",
        "    \"both\", \"each\", \"few\", \"more\", \"most\", \"other\", \"some\", \"such\", \"no\",\n",
        "    \"nor\", \"not\", \"only\", \"own\", \"same\", \"so\", \"than\", \"too\", \"very\", \"s\",\n",
        "    \"t\", \"can\", \"will\", \"just\", \"don\", \"should\", \"now\"\n",
        "}\n",
        "\n",
        "stemmer = PorterStemmer()\n",
        "\n",
        "corpus = []\n",
        "\n",
        "for i in range(len(df)):\n",
        "    text = df['Message'].iloc[i].lower()\n",
        "    text = text.translate(str.maketrans('', '', string.punctuation))\n",
        "    text = text.split()\n",
        "    text = [stemmer.stem(word) for word in text if word not in stopwords_set]\n",
        "    text = ' '.join(text)\n",
        "\n",
        "    corpus.append(text)\n",
        "\n",
        "print(f\"Length of df: {len(df)}\")\n",
        "print(f\"Length of corpus: {len(corpus)}\")\n",
        "\n",
        "#storing the processed messages in the DataFrame\n",
        "if len(corpus) == len(df):\n",
        "    df['Processed_Message'] = corpus\n",
        "else:\n",
        "    print(\"Error: The lengths of corpus and DataFrame do not match!\")\n",
        "\n",
        "print(df[['Message', 'Processed_Message']].head())\n"
      ],
      "metadata": {
        "colab": {
          "base_uri": "https://localhost:8080/"
        },
        "id": "V8TvZdZjluhz",
        "outputId": "94404d3c-99eb-4e17-81dd-41d16bb99e5d"
      },
      "execution_count": null,
      "outputs": [
        {
          "output_type": "stream",
          "name": "stdout",
          "text": [
            "Length of df: 76\n",
            "Length of corpus: 76\n",
            "                                             Message  \\\n",
            "0                                            mike tl   \n",
            "1  Hi kalasa.gallery, Are you ready to take your ...   \n",
            "2  Hey, Guess What ? Now You Launch Your Own 6-Fi...   \n",
            "3  Hi, Imagine having access to the world's leadi...   \n",
            "4   We are excited to announce the launch of our ...   \n",
            "\n",
            "                                   Processed_Message  \n",
            "0                                            mike tl  \n",
            "1  hi kalasagalleri readi take busi next level po...  \n",
            "2  hey guess launch 6figur whitelabel lifelik int...  \n",
            "3  hi imagin access world lead ai tool without ha...  \n",
            "4  excit announc launch new aipow platform design...  \n"
          ]
        }
      ]
    },
    {
      "cell_type": "code",
      "source": [
        "vectorizer = TfidfVectorizer()\n",
        "X = vectorizer.fit_transform(df['Processed_Message']).toarray()\n",
        "y = df['label']\n",
        "\n",
        "X_train, X_test, y_train, y_test = train_test_split(X, y, test_size=0.3, random_state=42, stratify=y)\n",
        "\n",
        "svm_model = SVC(kernel='linear', C=10, probability=True, random_state=42)\n",
        "cv_scores = cross_val_score(svm_model, X, y, cv=5)\n",
        "\n",
        "print(f\"Cross-validation scores: {cv_scores}\")\n",
        "print(f\"Mean cross-validation score: {cv_scores.mean()}\")\n",
        "\n",
        "# Defining a parameter grid to search over\n",
        "param_grid = {\n",
        "    'C': [1, 10, 100],\n",
        "    'gamma': ['scale', 'auto'],\n",
        "    'kernel': ['linear', 'rbf'],\n",
        "    'probability': [True]\n",
        "}\n",
        "\n",
        "grid_search = GridSearchCV(SVC(), param_grid, cv=5, scoring='accuracy')\n",
        "grid_search.fit(X_train, y_train)\n",
        "\n",
        "print(f\"Best parameters: {grid_search.best_params_}\")\n",
        "\n",
        "# Get the best model from grid search\n",
        "best_svm_model = grid_search.best_estimator_"
      ],
      "metadata": {
        "colab": {
          "base_uri": "https://localhost:8080/"
        },
        "id": "3NYiKBPXl90X",
        "outputId": "136e176d-aa0d-49a0-93ce-3716d21607d8"
      },
      "execution_count": null,
      "outputs": [
        {
          "output_type": "stream",
          "name": "stdout",
          "text": [
            "Cross-validation scores: [0.9375     0.93333333 1.         0.86666667 0.93333333]\n",
            "Mean cross-validation score: 0.9341666666666667\n",
            "Best parameters: {'C': 10, 'gamma': 'scale', 'kernel': 'linear', 'probability': True}\n"
          ]
        }
      ]
    },
    {
      "cell_type": "code",
      "source": [
        "# Train the model\n",
        "best_svm_model.fit(X_train, y_train)\n",
        "probabilities = best_svm_model.predict_proba(X_test)\n",
        "print(probabilities)"
      ],
      "metadata": {
        "colab": {
          "base_uri": "https://localhost:8080/"
        },
        "id": "IP-wBTs8mSrj",
        "outputId": "e2a771a3-40b8-4335-8e03-2f6da81fda88"
      },
      "execution_count": null,
      "outputs": [
        {
          "output_type": "stream",
          "name": "stdout",
          "text": [
            "[[0.09872138 0.90127862]\n",
            " [0.14355136 0.85644864]\n",
            " [0.68682755 0.31317245]\n",
            " [0.66422146 0.33577854]\n",
            " [0.84213314 0.15786686]\n",
            " [0.15846015 0.84153985]\n",
            " [0.75561764 0.24438236]\n",
            " [0.93546708 0.06453292]\n",
            " [0.2248984  0.7751016 ]\n",
            " [0.9718391  0.0281609 ]\n",
            " [0.82440492 0.17559508]\n",
            " [0.17192968 0.82807032]\n",
            " [0.75212716 0.24787284]\n",
            " [0.90980729 0.09019271]\n",
            " [0.26436746 0.73563254]\n",
            " [0.10146196 0.89853804]\n",
            " [0.27709842 0.72290158]\n",
            " [0.2484543  0.7515457 ]\n",
            " [0.04559445 0.95440555]\n",
            " [0.92805831 0.07194169]\n",
            " [0.27551738 0.72448262]\n",
            " [0.9718391  0.0281609 ]\n",
            " [0.60943692 0.39056308]]\n"
          ]
        }
      ]
    },
    {
      "cell_type": "code",
      "source": [
        "# Predict on the test set\n",
        "y_pred = best_svm_model.predict(X_test)\n",
        "\n",
        "# Evaluate the model\n",
        "print(\"Classification Report:\")\n",
        "print(classification_report(y_test, y_pred, target_names=[\"Non-spam\", \"Spam\"]))\n",
        "\n",
        "print(\"Confusion Matrix:\")\n",
        "print(confusion_matrix(y_test, y_pred))\n"
      ],
      "metadata": {
        "colab": {
          "base_uri": "https://localhost:8080/"
        },
        "id": "qzEk6xIhmcTa",
        "outputId": "77f02d88-775f-4db6-a22f-7364d33cdeae"
      },
      "execution_count": null,
      "outputs": [
        {
          "output_type": "stream",
          "name": "stdout",
          "text": [
            "Classification Report:\n",
            "              precision    recall  f1-score   support\n",
            "\n",
            "    Non-spam       1.00      1.00      1.00        12\n",
            "        Spam       1.00      1.00      1.00        11\n",
            "\n",
            "    accuracy                           1.00        23\n",
            "   macro avg       1.00      1.00      1.00        23\n",
            "weighted avg       1.00      1.00      1.00        23\n",
            "\n",
            "Confusion Matrix:\n",
            "[[12  0]\n",
            " [ 0 11]]\n"
          ]
        }
      ]
    },
    {
      "cell_type": "code",
      "source": [
        "y_probs = best_svm_model.predict_proba(X_test)[:, 1]\n",
        "\n",
        "precision, recall, thresholds = precision_recall_curve(y_test, y_probs)\n",
        "\n",
        "optimal_threshold = thresholds[np.argmax(2 * (recall * precision) / (recall + precision))]\n",
        "print(f\"Optimal Threshold: {optimal_threshold}\")\n",
        "\n",
        "new_threshold = 0.65\n",
        "y_pred = (y_probs >= new_threshold).astype(int)\n",
        "print(\"Classification Report with Threshold:\")\n",
        "print(classification_report(y_test, y_pred))\n"
      ],
      "metadata": {
        "colab": {
          "base_uri": "https://localhost:8080/"
        },
        "id": "kx8TChVPmn47",
        "outputId": "121dc9a7-8bf0-4567-d19a-b62b73c59d02"
      },
      "execution_count": null,
      "outputs": [
        {
          "output_type": "stream",
          "name": "stdout",
          "text": [
            "Optimal Threshold: 0.7229015840227548\n",
            "Classification Report with Threshold:\n",
            "              precision    recall  f1-score   support\n",
            "\n",
            "           0       1.00      1.00      1.00        12\n",
            "           1       1.00      1.00      1.00        11\n",
            "\n",
            "    accuracy                           1.00        23\n",
            "   macro avg       1.00      1.00      1.00        23\n",
            "weighted avg       1.00      1.00      1.00        23\n",
            "\n"
          ]
        }
      ]
    },
    {
      "cell_type": "code",
      "source": [
        "# Preprocessing the input email\n",
        "email_to_classify = df.Processed_Message[0]\n",
        "email_message = email_to_classify.lower().translate(str.maketrans(\"\", \"\", string.punctuation)).split()\n",
        "email_message = [stemmer.stem(word) for word in email_message if word not in stopwords_set]\n",
        "email_message = ' '.join(email_message)\n",
        "\n",
        "email_corpus = [email_message]\n",
        "X_email = vectorizer.transform(email_corpus)\n",
        "X_email_dense = X_email.toarray()\n",
        "\n",
        "prediction =  best_svm_model.predict(X_email_dense)\n",
        "print(\"Prediction:\", prediction)\n",
        "\n",
        "if prediction[0] == 1:\n",
        "    print(\"This email is classified as spam.\")\n",
        "else:\n",
        "    print(\"This email is classified as non-spam.\")"
      ],
      "metadata": {
        "colab": {
          "base_uri": "https://localhost:8080/"
        },
        "id": "XlDHt7oEm6VT",
        "outputId": "09ac82f5-768f-42c5-90cf-93c55c99153c"
      },
      "execution_count": null,
      "outputs": [
        {
          "output_type": "stream",
          "name": "stdout",
          "text": [
            "Prediction: [0]\n",
            "This email is classified as non-spam.\n"
          ]
        }
      ]
    },
    {
      "cell_type": "code",
      "source": [
        "joblib.dump(svm_model, \"svm_spam_model1.pkl\")\n",
        "joblib.dump(vectorizer, \"vectorizer1.pkl\")\n",
        "print(\"Model and vectorizer saved successfully!\")"
      ],
      "metadata": {
        "colab": {
          "base_uri": "https://localhost:8080/"
        },
        "id": "uTtJ0dnk8pCp",
        "outputId": "56c09b40-b075-4d9d-ffd2-46f6f843dbd7"
      },
      "execution_count": null,
      "outputs": [
        {
          "output_type": "stream",
          "name": "stdout",
          "text": [
            "Model and vectorizer saved successfully!\n"
          ]
        }
      ]
    },
    {
      "cell_type": "code",
      "source": [
        "joblib.dump(best_svm_model, \"svm_spam_model_best.pkl\")\n",
        "print(\"Best model saved successfully!\")\n"
      ],
      "metadata": {
        "colab": {
          "base_uri": "https://localhost:8080/"
        },
        "id": "Uve-Tyaqgw86",
        "outputId": "ce680085-b0c6-4f0f-8cb3-20ef09f59c43"
      },
      "execution_count": null,
      "outputs": [
        {
          "output_type": "stream",
          "name": "stdout",
          "text": [
            "Best model saved successfully!\n"
          ]
        }
      ]
    }
  ]
}